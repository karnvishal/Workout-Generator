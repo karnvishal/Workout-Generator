{
 "cells": [
  {
   "cell_type": "code",
   "execution_count": null,
   "id": "05df1abc",
   "metadata": {},
   "outputs": [],
   "source": [
    "import pandas as pd\n",
    "import numpy as np\n",
    "import seaborn as sns\n",
    "sns.set(style=\"whitegrid\")\n",
    "import matplotlib.pyplot as plt"
   ]
  },
  {
   "cell_type": "code",
   "execution_count": null,
   "id": "581a1c81",
   "metadata": {},
   "outputs": [],
   "source": [
    "df = pd.read_csv(\"chest data.csv\")\n",
    "df['Exercise'].astype(str)\n",
    "df.rename(columns = {'Front delt':'Front_delt'}, inplace = True)\n",
    "df.rename(columns = {'Upper chest':'Upper_chest'}, inplace = True)\n",
    "df.rename(columns = {'Lower chest':'Lower_chest'}, inplace = True)\n",
    "df.rename(columns = {'Middle chest':'Middle_chest'}, inplace = True)\n",
    "df.head()\n",
    "\n"
   ]
  },
  {
   "cell_type": "code",
   "execution_count": null,
   "id": "fbaa93d5",
   "metadata": {},
   "outputs": [],
   "source": [
    "chest={1:'push-ups', 2:'banded push-ups', 3:'standing cable fly', 4:'high to low cable fly', 5:'seated cable fly', 6:'chest dips', 7:'barbell bench press', 8:'incline barbell bench press', 9:'flat dumbbell press', 10:'incline machine press', 11:'15 degree incline dumbbell press', 12:'30 degree incline dumbbell press', 13:'45 degree incline dumbbell press', 14:'decline dumbbell press', 15:'pinch press', 16:'pec deck machine'}"
   ]
  },
  {
   "cell_type": "code",
   "execution_count": null,
   "id": "adceaa9d",
   "metadata": {},
   "outputs": [],
   "source": [
    "chest.values()"
   ]
  },
  {
   "cell_type": "code",
   "execution_count": null,
   "id": "b1d93376",
   "metadata": {},
   "outputs": [],
   "source": [
    "df.groupby(\"Name\", as_index=False)[['Front_delt']].max()"
   ]
  },
  {
   "cell_type": "code",
   "execution_count": null,
   "id": "d8a9a4b6",
   "metadata": {},
   "outputs": [],
   "source": [
    "fd=df.groupby('Exercise')['Front_delt'].mean().to_frame(\"Records\").reset_index().round(1).sort_values(by='Records', ascending=False)\n",
    "fd.head()"
   ]
  },
  {
   "cell_type": "markdown",
   "id": "bcf9582a",
   "metadata": {},
   "source": [
    "<h1>Upper Chest</h1>"
   ]
  },
  {
   "cell_type": "code",
   "execution_count": null,
   "id": "22c53c2c",
   "metadata": {},
   "outputs": [],
   "source": [
    "p1=df[df['Name']=='Person1']\n",
    "p2=df[df['Name']=='Person2']\n",
    "p3=df[df['Name']=='Person3']\n",
    "\n",
    "p1_sort=p1.sort_values(by='Upper_chest', ascending=False)[['Exercise','Upper_chest']]\n",
    "p2_sort=p2.sort_values(by='Upper_chest', ascending=False)[['Exercise','Upper_chest']]\n",
    "p3_sort=p3.sort_values(by='Upper_chest', ascending=False)[['Exercise','Upper_chest']]"
   ]
  },
  {
   "cell_type": "code",
   "execution_count": null,
   "id": "b00ca77f",
   "metadata": {},
   "outputs": [],
   "source": [
    "uc=df.groupby('Exercise')['Upper_chest'].mean().to_frame(\"Records\").reset_index().round(1).sort_values(by='Records', ascending=False)\n",
    "uc_e= uc['Exercise'].tolist()\n",
    "uc.head()"
   ]
  },
  {
   "cell_type": "code",
   "execution_count": null,
   "id": "c8b59478",
   "metadata": {},
   "outputs": [],
   "source": [
    "plt.figure(figsize=(15,5))\n",
    "plt.title(\"Best exercises for Upper Chest\")\n",
    "plt.xticks(rotation=90)\n",
    "sns.barplot(x=uc.Exercise, y=uc.Records)\n",
    "plt.ylabel(\"Public Response(in percentage)\")"
   ]
  },
  {
   "cell_type": "markdown",
   "id": "be90f825",
   "metadata": {},
   "source": [
    "<h3>Individual comparison for Upper Chest</h3>"
   ]
  },
  {
   "cell_type": "code",
   "execution_count": null,
   "id": "6ac73a36",
   "metadata": {
    "scrolled": true
   },
   "outputs": [],
   "source": [
    "plt.figure(figsize = (18,6))\n",
    "\n",
    "plt.subplot(1,3,1)\n",
    "plt.title(\"Person 2-Upper Chest\")\n",
    "plt.xticks(rotation=90)\n",
    "sns.barplot(x=p1_sort.Exercise, y=p1_sort.Upper_chest)\n",
    "\n",
    "plt.subplot(1,3,2)\n",
    "plt.title(\"Person 2-Upper Chest\")\n",
    "plt.xticks(rotation=90)\n",
    "sns.barplot(x=p2_sort.Exercise, y=p2_sort.Upper_chest)\n",
    "\n",
    "plt.subplot(1,3,3)\n",
    "plt.title(\"Person 3-Upper Chest\")\n",
    "plt.xticks(rotation=90)\n",
    "sns.barplot(x=p3_sort.Exercise, y=p3_sort.Upper_chest)"
   ]
  },
  {
   "cell_type": "markdown",
   "id": "295fe0e8",
   "metadata": {},
   "source": [
    "<h3>Front Delt Involvement</h3>"
   ]
  },
  {
   "cell_type": "code",
   "execution_count": null,
   "id": "2dbdf297",
   "metadata": {},
   "outputs": [],
   "source": [
    "fd=df.groupby('Exercise')['Front_delt'].mean().to_frame(\"Records\").reset_index().round(1).sort_values(by='Records', ascending=False)\n",
    "fd.head()"
   ]
  },
  {
   "cell_type": "markdown",
   "id": "f2a56399",
   "metadata": {},
   "source": [
    "<p1>Generally, exercises done on an incline bench will better target the upper chest. So, it's no surprise that the top two exercises were both incline dumbbell presses—just at different bench angles.<br>\n",
    "\n",
    "Accumulating the results of 3 exercises(15 degrees,30 degrees and 45 degrees),I found out as soon as the bench incline reached 45 degrees, the upper chest activation began to decrease, and the shoulders started to take over.<br>\n",
    "\n",
    "As a result, the lower inclines of 15 degrees and 30 degrees, which is usually just 1 to 2 notches up from the bottom position, came out on top<br>\n",
    "\n",
    "    "
   ]
  },
  {
   "cell_type": "markdown",
   "id": "fee8702d",
   "metadata": {},
   "source": [
    "<h1>Middle Chest</h1>"
   ]
  },
  {
   "cell_type": "code",
   "execution_count": null,
   "id": "bdb0c818",
   "metadata": {},
   "outputs": [],
   "source": [
    "mc=df.groupby('Exercise')['Middle_chest'].mean().to_frame(\"Records\").reset_index().round(1).sort_values(by='Records', ascending=False)\n",
    "mc_e= mc['Exercise'].tolist()\n",
    "mc.head()"
   ]
  },
  {
   "cell_type": "code",
   "execution_count": null,
   "id": "d1762622",
   "metadata": {
    "scrolled": true
   },
   "outputs": [],
   "source": [
    "plt.figure(figsize=(15,5))\n",
    "plt.title(\"Best exercises for Middle Chest\")\n",
    "plt.xticks(rotation=90)\n",
    "sns.barplot(x=mc.Exercise, y=mc.Records)\n",
    "plt.ylabel(\"Public Response(in percentage)\")"
   ]
  },
  {
   "cell_type": "markdown",
   "id": "e7911038",
   "metadata": {},
   "source": [
    "<h3>Individual comparison for Middle Chest</h3>"
   ]
  },
  {
   "cell_type": "code",
   "execution_count": null,
   "id": "007d8db3",
   "metadata": {
    "scrolled": true
   },
   "outputs": [],
   "source": [
    "p1_mc=p1.sort_values(by='Middle_chest', ascending=False)[['Exercise','Middle_chest']]\n",
    "p2_mc=p2.sort_values(by='Middle_chest', ascending=False)[['Exercise','Middle_chest']]\n",
    "p3_mc=p3.sort_values(by='Middle_chest', ascending=False)[['Exercise','Middle_chest']]\n",
    "plt.figure(figsize = (18,6))\n",
    "\n",
    "plt.subplot(1,3,1)\n",
    "plt.title(\"Person 2\")\n",
    "plt.xticks(rotation=90)\n",
    "sns.barplot(x=p1_mc.Exercise, y=p1_mc.Middle_chest)\n",
    "\n",
    "plt.subplot(1,3,2)\n",
    "plt.title(\"Person 2\")\n",
    "plt.xticks(rotation=90)\n",
    "sns.barplot(x=p2_mc.Exercise, y=p2_mc.Middle_chest)\n",
    "\n",
    "plt.subplot(1,3,3)\n",
    "plt.title(\"Person 3\")\n",
    "plt.xticks(rotation=90)\n",
    "sns.barplot(x=p3_mc.Exercise, y=p3_mc.Middle_chest)\n",
    "\n"
   ]
  },
  {
   "cell_type": "markdown",
   "id": "205a1693",
   "metadata": {},
   "source": [
    "\n",
    "The winner was an exercise with a very stable setup—and one that provides constant tension to the chest throughout the whole range of motion. It's the seated cable fly putting the cable handles at chest height, which seemed to be the perfect setting for the middle chest.\n",
    "\n",
    "The other winner was decline dumbell press with just a very slight elevation by placing a weight plate underneath the front of the bench, doing an  excellent job of activating the middle chest for all 3 subjects."
   ]
  },
  {
   "cell_type": "markdown",
   "id": "7da9659c",
   "metadata": {},
   "source": [
    " <h1>Lower Chest</h1>"
   ]
  },
  {
   "cell_type": "code",
   "execution_count": null,
   "id": "0c594390",
   "metadata": {},
   "outputs": [],
   "source": [
    "lc=df.groupby('Exercise')['Lower_chest'].mean().to_frame(\"Records\").reset_index().round(1).sort_values(by='Records', ascending=False)\n",
    "lc_e= lc['Exercise'].tolist()\n",
    "lc_e\n"
   ]
  },
  {
   "cell_type": "code",
   "execution_count": null,
   "id": "ee365237",
   "metadata": {
    "scrolled": true
   },
   "outputs": [],
   "source": [
    "plt.figure(figsize=(15,5))\n",
    "plt.title(\"Best exercises for Lower Chest\")\n",
    "plt.xticks(rotation=90)\n",
    "sns.barplot(x=lc.Exercise, y=lc.Records)\n",
    "plt.ylabel(\"Public Response(in percentage)\")"
   ]
  },
  {
   "cell_type": "markdown",
   "id": "89d1a6f6",
   "metadata": {},
   "source": [
    "Here, expecting high to low cable flyes to win, because tension from the cable aligns well with the lower chest fibers. While it did end up scoring well, standing cable flyes came out on top. This might be because it’s a more stable setup, with the tension from the cable still aligning quite well with the lower chest.\n",
    "\n",
    "The other winner joining the list of the best chest exercises was once again the decline dumbbell press, suggesting that the very slight decline aligns the press very well with both the middle and the lower fibers of the chest."
   ]
  },
  {
   "cell_type": "markdown",
   "id": "325f0835",
   "metadata": {},
   "source": [
    "<h1>Generating Functions</h1>"
   ]
  },
  {
   "cell_type": "code",
   "execution_count": null,
   "id": "27565d4f",
   "metadata": {},
   "outputs": [],
   "source": [
    "def solve(a, b):\n",
    "    dct = {x: i for i, x in enumerate(b)}\n",
    "    items_in_a = [x for x in a if x in dct]\n",
    "    items_in_a.sort(key=dct.get)\n",
    "    it = iter(items_in_a)\n",
    "    return [next(it) if x in dct else x for x in a]"
   ]
  },
  {
   "cell_type": "code",
   "execution_count": null,
   "id": "f6f25565",
   "metadata": {},
   "outputs": [],
   "source": [
    "def sort(value):\n",
    "    if value==1:\n",
    "        x=(solve(chosed_items,uc_e))[0:2]        \n",
    "        rem=[ele for ele in chosed_items ]\n",
    "        for y in x:\n",
    "            if y in chosed_items:\n",
    "                rem.remove(y)\n",
    "        uc=x\n",
    "        mc=solve(rem,mc_e)[0]\n",
    "        lc=solve(rem,lc_e)[0]\n",
    "        \n",
    "        if mc==lc:\n",
    "            lc=solve(rem,lc_e)[1]\n",
    "            \n",
    "        print(f\"Upper Chest: {uc}\")\n",
    "        print(f\"Middle Chest: {mc}\")\n",
    "        print(f\"Lower Chest: {lc}\")\n",
    "    elif value==2:\n",
    "        x=(solve(chosed_items,mc_e))[0:2]        \n",
    "        rem=[ele for ele in chosed_items ]\n",
    "        for y in x:\n",
    "            if y in chosed_items:\n",
    "                rem.remove(y)\n",
    "        uc=solve(rem,uc_e)[0]\n",
    "        mc=x\n",
    "        lc=solve(rem,lc_e)[0]\n",
    "        \n",
    "        if uc==lc:\n",
    "            lc=solve(rem,lc_e)[1]\n",
    "            \n",
    "        print(f\"Upper Chest: {uc}\")\n",
    "        print(f\"Middle Chest: {mc}\")\n",
    "        print(f\"Lower Chest: {lc}\")\n",
    "    elif value==3:\n",
    "        x=(solve(chosed_items,lc_e))[0:2]        \n",
    "        rem=[ele for ele in chosed_items ]\n",
    "        for y in x:\n",
    "            if y in chosed_items:\n",
    "                rem.remove(y)\n",
    "        uc=solve(rem,mc_e)[0]\n",
    "        mc=solve(rem,mc_e)[0]\n",
    "        lc=x\n",
    "        \n",
    "        if uc==mc:\n",
    "            uc=solve(rem,lc_e)[1]\n",
    "            \n",
    "        print(f\"Upper Chest: {uc}\")\n",
    "        print(f\"Middle Chest: {mc}\")\n",
    "        print(f\"Lower Chest: {lc}\")\n",
    "    else:\n",
    "        print(\"Invalid input: Choose between 1, 2 or 3\")\n",
    "    \n",
    "        "
   ]
  },
  {
   "cell_type": "markdown",
   "id": "bb45a7a9",
   "metadata": {},
   "source": [
    "<h1>Taking user Input</h1>"
   ]
  },
  {
   "cell_type": "code",
   "execution_count": null,
   "id": "99517988",
   "metadata": {},
   "outputs": [],
   "source": [
    "print(\"Enter the index of the exercises available in your gym for chest\")\n",
    "print('\\n')\n",
    "for key, value in chest.items():\n",
    "    print(key, ' : ', value)\n",
    "print('\\n')\n",
    "n = int(input('number of exercises to choose?'))\n",
    "chosed_items = []\n",
    "while n > 0:\n",
    "    chosed = int(input('choose exercise: '))\n",
    "    if chosed in chest.keys() and chosed not in chosed_items:\n",
    "        chosed_items.append(chest.get(chosed))\n",
    "    n = n-1\n",
    "print('\\n')    \n",
    "print(f\"The exercises availabe at your gym are {chosed_items}\")\n",
    "print('\\n')\n",
    "print(\"Which area of the chest do you feel under developed\")\n",
    "w=int(input(\"Enter 1 for Upper Chest\\nEnter 2 for Middle Chest\\nEnter 3 for Lower Chest\\n\"))\n",
    "print('\\n')\n",
    "sort(w)"
   ]
  },
  {
   "cell_type": "code",
   "execution_count": null,
   "id": "e5e25484",
   "metadata": {},
   "outputs": [],
   "source": []
  }
 ],
 "metadata": {
  "kernelspec": {
   "display_name": "Python 3 (ipykernel)",
   "language": "python",
   "name": "python3"
  },
  "language_info": {
   "codemirror_mode": {
    "name": "ipython",
    "version": 3
   },
   "file_extension": ".py",
   "mimetype": "text/x-python",
   "name": "python",
   "nbconvert_exporter": "python",
   "pygments_lexer": "ipython3",
   "version": "3.9.13"
  }
 },
 "nbformat": 4,
 "nbformat_minor": 5
}
